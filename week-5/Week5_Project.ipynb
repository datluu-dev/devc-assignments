{
  "nbformat": 4,
  "nbformat_minor": 0,
  "metadata": {
    "kernelspec": {
      "display_name": "Python 3",
      "language": "python",
      "name": "python3"
    },
    "language_info": {
      "codemirror_mode": {
        "name": "ipython",
        "version": 3
      },
      "file_extension": ".py",
      "mimetype": "text/x-python",
      "name": "python",
      "nbconvert_exporter": "python",
      "pygments_lexer": "ipython3",
      "version": "3.6.5"
    },
    "colab": {
      "name": "Week5_Project.ipynb",
      "provenance": [],
      "collapsed_sections": [],
      "toc_visible": true
    }
  },
  "cells": [
    {
      "cell_type": "markdown",
      "metadata": {
        "id": "ofzy8xHIXdQF"
      },
      "source": [
        "[Bag of Words Meets Bags of Popcorn](https://www.kaggle.com/c/word2vec-nlp-tutorial/data)\n",
        "======\n",
        "\n",
        "## Data Set\n",
        "\n",
        "The labeled data set consists of 50,000 IMDB movie reviews, specially selected for sentiment analysis. The sentiment of reviews is binary, meaning the IMDB rating < 5 results in a sentiment score of 0, and rating >=7 have a sentiment score of 1. No individual movie has more than 30 reviews. The 25,000 review labeled training set does not include any of the same movies as the 25,000 review test set. In addition, there are another 50,000 IMDB reviews provided without any rating labels.\n",
        "\n",
        "## File descriptions\n",
        "\n",
        "labeledTrainData - The labeled training set. The file is tab-delimited and has a header row followed by 25,000 rows containing an id, sentiment, and text for each review.\n",
        "## Data fields\n",
        "\n",
        "* id - Unique ID of each review\n",
        "* sentiment - Sentiment of the review; 1 for positive reviews and 0 for negative reviews\n",
        "* review - Text of the review\n",
        "\n",
        "## Objective\n",
        "Objective of this dataset is base on **review** we predict **sentiment** (positive or negative) so X is **review** column and y is **sentiment** column"
      ]
    },
    {
      "cell_type": "markdown",
      "metadata": {
        "id": "dub6uxUzXdQH"
      },
      "source": [
        "## 1. Load Dataset\n",
        "\n",
        "Let's first of all have a look at the data. You can download the file `labeledTrainData.tsv` on the [Kaggle website of the competition](https://www.kaggle.com/c/word2vec-nlp-tutorial/data), or on our [Google Drive](https://drive.google.com/file/d/1a1Lyn7ihikk3klAX26fgO3YsGdWHWoK5/view?usp=sharing)\n"
      ]
    },
    {
      "cell_type": "code",
      "metadata": {
        "id": "y1WU9XkYXdQI"
      },
      "source": [
        "# Import pandas, numpy\n",
        "import pandas as pd\n",
        "import numpy as np "
      ],
      "execution_count": 1,
      "outputs": []
    },
    {
      "cell_type": "code",
      "metadata": {
        "id": "_iH9rAw7XdQL",
        "outputId": "effb8fd6-c5d5-4f85-8e64-934e2b7c0368",
        "colab": {
          "base_uri": "https://localhost:8080/",
          "height": 204
        }
      },
      "source": [
        "# Read dataset with extra params sep='\\t', encoding=\"latin-1\"\n",
        "df = pd.read_csv('labeledTrainData.tsv', sep='\\t', encoding='latin-1')\n",
        "\n",
        "df.head()"
      ],
      "execution_count": 2,
      "outputs": [
        {
          "output_type": "execute_result",
          "data": {
            "text/html": [
              "<div>\n",
              "<style scoped>\n",
              "    .dataframe tbody tr th:only-of-type {\n",
              "        vertical-align: middle;\n",
              "    }\n",
              "\n",
              "    .dataframe tbody tr th {\n",
              "        vertical-align: top;\n",
              "    }\n",
              "\n",
              "    .dataframe thead th {\n",
              "        text-align: right;\n",
              "    }\n",
              "</style>\n",
              "<table border=\"1\" class=\"dataframe\">\n",
              "  <thead>\n",
              "    <tr style=\"text-align: right;\">\n",
              "      <th></th>\n",
              "      <th>id</th>\n",
              "      <th>sentiment</th>\n",
              "      <th>review</th>\n",
              "    </tr>\n",
              "  </thead>\n",
              "  <tbody>\n",
              "    <tr>\n",
              "      <th>0</th>\n",
              "      <td>5814_8</td>\n",
              "      <td>1</td>\n",
              "      <td>With all this stuff going down at the moment w...</td>\n",
              "    </tr>\n",
              "    <tr>\n",
              "      <th>1</th>\n",
              "      <td>2381_9</td>\n",
              "      <td>1</td>\n",
              "      <td>\\The Classic War of the Worlds\\\" by Timothy Hi...</td>\n",
              "    </tr>\n",
              "    <tr>\n",
              "      <th>2</th>\n",
              "      <td>7759_3</td>\n",
              "      <td>0</td>\n",
              "      <td>The film starts with a manager (Nicholas Bell)...</td>\n",
              "    </tr>\n",
              "    <tr>\n",
              "      <th>3</th>\n",
              "      <td>3630_4</td>\n",
              "      <td>0</td>\n",
              "      <td>It must be assumed that those who praised this...</td>\n",
              "    </tr>\n",
              "    <tr>\n",
              "      <th>4</th>\n",
              "      <td>9495_8</td>\n",
              "      <td>1</td>\n",
              "      <td>Superbly trashy and wondrously unpretentious 8...</td>\n",
              "    </tr>\n",
              "  </tbody>\n",
              "</table>\n",
              "</div>"
            ],
            "text/plain": [
              "       id  sentiment                                             review\n",
              "0  5814_8          1  With all this stuff going down at the moment w...\n",
              "1  2381_9          1  \\The Classic War of the Worlds\\\" by Timothy Hi...\n",
              "2  7759_3          0  The film starts with a manager (Nicholas Bell)...\n",
              "3  3630_4          0  It must be assumed that those who praised this...\n",
              "4  9495_8          1  Superbly trashy and wondrously unpretentious 8..."
            ]
          },
          "metadata": {
            "tags": []
          },
          "execution_count": 2
        }
      ]
    },
    {
      "cell_type": "markdown",
      "metadata": {
        "id": "bbuaIdhWXdQO"
      },
      "source": [
        "## 2. Preprocessing"
      ]
    },
    {
      "cell_type": "code",
      "metadata": {
        "id": "wJr6juwHXdQP",
        "outputId": "e3682763-3ae2-49d5-c3b7-6a33c1b9a69a",
        "colab": {
          "base_uri": "https://localhost:8080/",
          "height": 68
        }
      },
      "source": [
        "# stop words\n",
        "import nltk\n",
        "nltk.download('stopwords')"
      ],
      "execution_count": 3,
      "outputs": [
        {
          "output_type": "stream",
          "text": [
            "[nltk_data] Downloading package stopwords to /root/nltk_data...\n",
            "[nltk_data]   Unzipping corpora/stopwords.zip.\n"
          ],
          "name": "stdout"
        },
        {
          "output_type": "execute_result",
          "data": {
            "text/plain": [
              "True"
            ]
          },
          "metadata": {
            "tags": []
          },
          "execution_count": 3
        }
      ]
    },
    {
      "cell_type": "code",
      "metadata": {
        "id": "HhcyUj8Pj0Q1"
      },
      "source": [
        "from nltk.corpus import stopwords\n",
        "stop_words = stopwords.words()"
      ],
      "execution_count": 6,
      "outputs": []
    },
    {
      "cell_type": "code",
      "metadata": {
        "id": "3v220Tp_XdQS",
        "outputId": "f6ebc703-8e27-45fd-bcf6-b30725194540",
        "colab": {
          "base_uri": "https://localhost:8080/",
          "height": 37
        }
      },
      "source": [
        "# Removing special characters and \"trash\"\n",
        "import re\n",
        "def preprocessor(text):\n",
        "    # Remove HTML markup\n",
        "    text = text.lower()\n",
        "    text = re.sub('<[^>]*>', '', text) # Your code here\n",
        "    \n",
        "    # Save emoticons for later appending\n",
        "    # Your code here\n",
        "\n",
        "    # Remove any non-word character and append the emoticons,\n",
        "    text = re.sub('[^a-z]', ' ', text)\n",
        "    text = \" \".join(text.split())\n",
        "    # removing the nose character for standarization. Convert to lower case\n",
        "    # Your code here\n",
        "    \n",
        "    return text\n",
        "\n",
        "preprocessor('I    love.   <p>html</p>')"
      ],
      "execution_count": 4,
      "outputs": [
        {
          "output_type": "execute_result",
          "data": {
            "application/vnd.google.colaboratory.intrinsic+json": {
              "type": "string"
            },
            "text/plain": [
              "'i love html'"
            ]
          },
          "metadata": {
            "tags": []
          },
          "execution_count": 4
        }
      ]
    },
    {
      "cell_type": "code",
      "metadata": {
        "id": "-o5ED67LXdQV"
      },
      "source": [
        "# tokenizer and stemming\n",
        "# tokenizer: to break down our twits in individual words\n",
        "# stemming: reducing a word to its root\n",
        "from nltk.stem import PorterStemmer\n",
        "# Your code here\n",
        "porter = PorterStemmer()\n",
        "\n",
        "def tokenizer_porter(text):\n",
        "    return [porter.stem(word) for word in text.split()] # Your code here"
      ],
      "execution_count": 11,
      "outputs": []
    },
    {
      "cell_type": "code",
      "metadata": {
        "id": "zjzOxu4MXdQZ"
      },
      "source": [
        "# split the dataset in train and test\n",
        "# Your code here\n",
        "from sklearn.model_selection import train_test_split\n",
        "X = df['review']\n",
        "y = df['sentiment']\n",
        "\n",
        "X_train, X_test, y_train, y_test = train_test_split(X, y, test_size=0.25, random_state=100)"
      ],
      "execution_count": 9,
      "outputs": []
    },
    {
      "cell_type": "markdown",
      "metadata": {
        "id": "COr1xR7PXdQc"
      },
      "source": [
        "## 3. Create Model and Train \n",
        "\n",
        "Using **Pipeline** to concat **tfidf** step and **LogisticRegression** step"
      ]
    },
    {
      "cell_type": "code",
      "metadata": {
        "id": "tOpwINJmXdQd",
        "outputId": "2cadf695-280d-4c72-dcb7-42ae11955c4f",
        "colab": {
          "base_uri": "https://localhost:8080/",
          "height": 462
        }
      },
      "source": [
        "# Import Pipeline, LogisticRegression, TfidfVectorizer\n",
        "from sklearn.pipeline import Pipeline\n",
        "from sklearn.linear_model import LogisticRegression\n",
        "from sklearn.feature_extraction.text import TfidfVectorizer\n",
        "\n",
        "tfidf = TfidfVectorizer(stop_words=stop_words,\n",
        "                        tokenizer=tokenizer_porter,\n",
        "                        preprocessor=preprocessor)\n",
        "\n",
        "clf = Pipeline([('vect', tfidf),\n",
        "                ('clf', LogisticRegression(random_state=0))])\n",
        "clf.fit(X_train, y_train)"
      ],
      "execution_count": 12,
      "outputs": [
        {
          "output_type": "stream",
          "text": [
            "/usr/local/lib/python3.6/dist-packages/sklearn/feature_extraction/text.py:385: UserWarning: Your stop_words may be inconsistent with your preprocessing. Tokenizing the stop words generated tokens ['abbiat', 'abov', 'acaba', 'ace', 'aceast', 'ahogi', 'aib', 'alguna', 'alguno', 'altm', 'ame', 'amo', 'anch', 'ani', 'ant', 'anum', 'aquel', 'ara', 'arr', 'art', 'asl', 'ata', 'atar', 'aurion', 'auron', 'avai', 'ave', 'avess', 'avest', 'avet', 'avev', 'avion', 'avon', 'avr', 'avrebb', 'avrest', 'avret', 'ayon', 'azut', 'b', 'baiknya', 'bamo', 'ban', 'baz', 'bb', 'becaus', 'befor', 'begg', 'bel', 'benn', 'ber', 'beraw', 'berkali', 'birka', 'bizl', 'bodit', 'bost', 'br', 'bunlar', 'catr', 'dac', 'dana', 'dant', 'dasselb', 'deir', 'depoi', 'dera', 'derselb', 'desd', 'despr', 'dett', 'dieselb', 'diss', 'diy', 'doe', 'dond', 'dou', 'dovol', 'dovolit', 'dup', 'dur', 'durant', 'dure', 'dvain', 'dvaindevetdeset', 'dvakratn', 'dvestot', 'dvojn', 'ebb', 'edinol', 'ega', 'egi', 'egyr', 'eiv', 'ejo', 'elel', 'elela', 'elelo', 'elen', 'elena', 'eleni', 'eleno', 'eleti', 'eli', 'elijo', 'elim', 'elimo', 'elit', 'elita', 'eliva', 'ell', 'ello', 'emer', 'emerkoli', 'emm', 'emo', 'emu', 'emur', 'emurkoli', 'enkoli', 'enkratn', 'entr', 'eprav', 'erai', 'erav', 'eravno', 'ere', 'erega', 'erem', 'eremu', 'erih', 'erim', 'erima', 'erimi', 'err', 'esar', 'esarkoli', 'ess', 'estabai', 'estamo', 'estaremo', 'estdeset', 'estdeseta', 'estdesetega', 'estdesetem', 'estdesetemu', 'estdeseti', 'estdesetih', 'estdesetim', 'estdesetima', 'estdesetimi', 'estdeseto', 'estega', 'estejamo', 'estem', 'estemo', 'estemu', 'estev', 'esti', 'estih', 'estim', 'estima', 'estimi', 'estindvajset', 'estindvajsetih', 'estindvajsetim', 'estindvajsetimi', 'estintrideset', 'estintridesetih', 'estintridesetim', 'estintridesetimi', 'estiv', 'estivemo', 'estivermo', 'estivess', 'estnajst', 'estnajsta', 'estnajstega', 'estnajstem', 'estnajstemu', 'estnajsti', 'estnajstih', 'estnajstim', 'estnajstima', 'estnajstimi', 'estnajsto', 'eststo', 'eststotih', 'eststotim', 'eststotimi', 'estuv', 'estuvi', 'estuvierai', 'estuvies', 'estuviesei', 'estuvimo', 'estuvist', 'estuvistei', 'eta', 'ete', 'etm', 'etrt', 'etrta', 'etrtega', 'etrtem', 'etrtemu', 'etrti', 'etrtih', 'etrtim', 'etrtima', 'etrtimi', 'etrto', 'etudi', 'etwa', 'eur', 'euss', 'eussion', 'eva', 'ey', 'ezenj', 'eznj', 'f', 'facciat', 'facess', 'facest', 'facev', 'far', 'farebb', 'farest', 'faret', 'fiecar', 'foart', 'fomo', 'formo', 'foss', 'fr', 'fuerai', 'fues', 'fuesei', 'fuimo', 'fuist', 'fuistei', 'fuss', 'fussion', 'g', 'gil', 'gon', 'got', 'gra', 'gy', 'habr', 'habremo', 'hadd', 'hajamo', 'haqq', 'haru', 'hatt', 'havd', 'havemo', 'hayamo', 'heid', 'heill', 'heilt', 'heiss', 'heist', 'heit', 'hemo', 'hend', 'henn', 'hi', 'hj', 'hogi', 'hote', 'hotit', 'houv', 'houvemo', 'houveremo', 'houvermo', 'houvess', 'hrend', 'hubi', 'hubierai', 'hubies', 'hubiesei', 'hubimo', 'hubist', 'hubistei', 'hv', 'hvi', 'hvilk', 'hz', 'ick', 'iden', 'ie', 'iet', 'igar', 'igav', 'igava', 'igavega', 'igavem', 'igavemu', 'igavi', 'igavih', 'igavim', 'igavima', 'igavimi', 'igavo', 'ih', 'ihin', 'ikk', 'ikkj', 'iksi', 'ild', 'illetv', 'ilt', 'ima', 'imer', 'imerkoli', 'ina', 'inaint', 'ine', 'inkj', 'int', 'ism', 'iss', 'istifad', 'izm', 'izpr', 'jabb', 'jela', 'joill', 'joll', 'jra', 'kajn', 'kakr', 'kali', 'kasu', 'kater', 'keill', 'keilt', 'keiss', 'keist', 'keit', 'kenel', 'kenelt', 'keness', 'kenest', 'keress', 'kereszt', 'ket', 'ketk', 'kkiz', 'kone', 'korlei', 'ks', 'ksi', 'kund', 'kunn', 'kurangnya', 'lb', 'lea', 'legal', 'lenn', 'lk', 'lle', 'lli', 'lt', 'ltal', 'lv', 'mag', 'malon', 'manch', 'mang', 'marajt', 'marat', 'marsi', 'marsikater', 'marv', 'mase', 'mata', 'mednj', 'meds', 'meid', 'meill', 'meilt', 'meiss', 'meist', 'meit', 'meli', 'mik', 'mill', 'milt', 'mink', 'minul', 'miss', 'mist', 'mitk', 'mo', 'mogl', 'morat', 'moreb', 'moret', 'mul', 'musst', 'mykj', 'nadm', 'nadnj', 'nadvs', 'nagi', 'najbr', 'nakoli', 'namr', 'nd', 'nda', 'neen', 'nega', 'negakoli', 'nekater', 'nekoli', 'nelt', 'nemkoli', 'nemu', 'nemukoli', 'nen', 'nerd', 'nered', 'nerey', 'ness', 'nest', 'net', 'ng', 'nhamo', 'nih', 'nihkoli', 'niill', 'niilt', 'niiss', 'niist', 'niit', 'nikakr', 'nikoli', 'nikom', 'nim', 'nima', 'nimakoli', 'nimi', 'nimikoli', 'nimkoli', 'nin', 'ninc', 'nist', 'niy', 'nk', 'nki', 'nn', 'nnen', 'nnte', 'noastr', 'nogl', 'noill', 'nokoli', 'nokr', 'nosotra', 'nosotro', 'nostr', 'notr', 'nt', 'ny', 'nyari', 'og', 'ohn', 'ok', 'olah', 'olemm', 'olett', 'olimm', 'olisimm', 'olisitt', 'olitt', 'olmad', 'olmu', 'onc', 'onedv', 'onidv', 'onli', 'oric', 'oricar', 'oricin', 'oriund', 'osemin', 'osm', 'ourselv', 'ox', 'p', 'padah', 'pale', 'panta', 'pent', 'perch', 'persz', 'pest', 'petin', 'pi', 'poat', 'porqu', 'ppen', 'predm', 'prednj', 'preds', 'printr', 'pu', 'q', 'qar', 'qiq', 'quant', 'quell', 'quest', 'r', 'ra', 'ramo', 'rd', 'rde', 'rden', 'reed', 'rei', 'ret', 'ror', 'rt', 'rui', 'rx', 'sad', 'samm', 'saniy', 'sar', 'sarebb', 'sarest', 'saret', 'seamo', 'sedemin', 'sedm', 'sejamo', 'sek', 'sekaligu', 'sekurang', 'semis', 'semo', 'ser', 'sere', 'seremo', 'serion', 'seron', 'setidak', 'siat', 'sient', 'siet', 'siin', 'siit', 'sik', 'sill', 'silt', 'sinul', 'sizl', 'sj', 'skoznj', 'skozt', 'skull', 'slind', 'sobr', 'soi', 'solch', 'sollt', 'somm', 'somo', 'soyon', 'spri', 'ss', 'ssemo', 'ssze', 'st', 'star', 'starebb', 'starest', 'staret', 'stavat', 'stea', 'stess', 'stest', 'stett', 'stiat', 'sz', 'szint', 'taient', 'tait', 'takal', 'takegal', 'takel', 'takeml', 'takemul', 'takihl', 'takil', 'takimal', 'takimil', 'takiml', 'takl', 'takol', 'tal', 'tall', 'tama', 'tamb', 'tambi', 'tanda', 'tant', 'tegal', 'tehl', 'teid', 'teill', 'teilt', 'teiss', 'teist', 'teit', 'tejl', 'telj', 'temal', 'temil', 'teml', 'temo', 'temul', 'temv', 'ten', 'tendr', 'tendremo', 'tene', 'tenemo', 'teng', 'tengamo', 'tenhamo', 'teremo', 'teru', 'themselv', 'tia', 'tidaknya', 'tien', 'tiez', 'tion', 'tiri', 'tirideset', 'tirideseta', 'tiridesetega', 'tiridesetem', 'tiridesetemu', 'tirideseti', 'tiridesetih', 'tiridesetim', 'tiridesetima', 'tiridesetimi', 'tirideseto', 'tirih', 'tiriindvajset', 'tiriindvajseta', 'tiriindvajsetega', 'tiriindvajsetem', 'tiriindvajsetemu', 'tiriindvajseti', 'tiriindvajsetih', 'tiriindvajsetim', 'tiriindvajsetima', 'tiriindvajsetimi', 'tiriindvajseto', 'tirim', 'tirimi', 'tirinajst', 'tirinajsta', 'tirinajstega', 'tirinajstem', 'tirinajstemu', 'tirinajsti', 'tirinajstih', 'tirinajstim', 'tirinajstima', 'tirinajstimi', 'tirinajsto', 'tiristo', 'tiristotih', 'tiristotim', 'tiristotimi', 'tirj', 'tiso', 'tist', 'tiv', 'tivemo', 'tivermo', 'tivess', 'toat', 'totu', 'tov', 'tre', 'tretj', 'tric', 'triin', 'triintrideset', 'trikratn', 'tristot', 'trojn', 'tt', 'tuoll', 'tuot', 'tuvi', 'tuvierai', 'tuvies', 'tuviesei', 'tuvimo', 'tuvist', 'tuvistei', 'tva', 'ugyani', 'unel', 'utol', 'vagi', 'vagyi', 'val', 'vamo', 'varf', 'varj', 'vendarl', 'ver', 'veri', 'vert', 'vill', 'vnovi', 'vo', 'voastr', 'voc', 'vosotra', 'vosotro', 'vostr', 'votr', 'vou', 'vpri', 'vsakom', 'vsakr', 'vzdol', 'w', 'wa', 'welch', 'whi', 'wollt', 'yaln', 'yax', 'yen', 'yetmi', 'yourselv', 'zapor', 'zare', 'zmo', 'zmoret'] not in stop_words.\n",
            "  'stop_words.' % sorted(inconsistent))\n"
          ],
          "name": "stderr"
        },
        {
          "output_type": "execute_result",
          "data": {
            "text/plain": [
              "Pipeline(memory=None,\n",
              "         steps=[('vect',\n",
              "                 TfidfVectorizer(analyzer='word', binary=False,\n",
              "                                 decode_error='strict',\n",
              "                                 dtype=<class 'numpy.float64'>,\n",
              "                                 encoding='utf-8', input='content',\n",
              "                                 lowercase=True, max_df=1.0, max_features=None,\n",
              "                                 min_df=1, ngram_range=(1, 1), norm='l2',\n",
              "                                 preprocessor=<function preprocessor at 0x7fb4f83f5f28>,\n",
              "                                 smooth_idf=True,\n",
              "                                 stop_words=['إذ', 'إذا', 'إذما', 'إذن',...\n",
              "                                 token_pattern='(?u)\\\\b\\\\w\\\\w+\\\\b',\n",
              "                                 tokenizer=<function tokenizer_porter at 0x7fb4f0000158>,\n",
              "                                 use_idf=True, vocabulary=None)),\n",
              "                ('clf',\n",
              "                 LogisticRegression(C=1.0, class_weight=None, dual=False,\n",
              "                                    fit_intercept=True, intercept_scaling=1,\n",
              "                                    l1_ratio=None, max_iter=100,\n",
              "                                    multi_class='auto', n_jobs=None,\n",
              "                                    penalty='l2', random_state=0,\n",
              "                                    solver='lbfgs', tol=0.0001, verbose=0,\n",
              "                                    warm_start=False))],\n",
              "         verbose=False)"
            ]
          },
          "metadata": {
            "tags": []
          },
          "execution_count": 12
        }
      ]
    },
    {
      "cell_type": "markdown",
      "metadata": {
        "id": "KYdoVMx_XdQf"
      },
      "source": [
        "## 4. Evaluate Model"
      ]
    },
    {
      "cell_type": "code",
      "metadata": {
        "id": "Z2ZOzHoaXdQg",
        "outputId": "2debf34c-37d5-4940-e63a-b2a5815d9923",
        "colab": {
          "base_uri": "https://localhost:8080/",
          "height": 289
        }
      },
      "source": [
        "# Using Test dataset to evaluate model\n",
        "from sklearn.metrics import confusion_matrix, classification_report\n",
        "\n",
        "predictions = clf.predict(X_test)\n",
        "# classification_report\n",
        "report = classification_report(y_test, predictions)\n",
        "# confusion matrix\n",
        "conf_matrix = confusion_matrix(y_test, predictions)\n",
        "\n",
        "result = f'''\n",
        "Confusion Matrix:\n",
        "{conf_matrix}\n",
        "-----------------\n",
        "Classification Report:\n",
        "{report}\n",
        "'''\n",
        "\n",
        "print(result)"
      ],
      "execution_count": 13,
      "outputs": [
        {
          "output_type": "stream",
          "text": [
            "\n",
            "Confusion Matrix:\n",
            "[[2659  414]\n",
            " [ 319 2858]]\n",
            "-----------------\n",
            "Classification Report:\n",
            "              precision    recall  f1-score   support\n",
            "\n",
            "           0       0.89      0.87      0.88      3073\n",
            "           1       0.87      0.90      0.89      3177\n",
            "\n",
            "    accuracy                           0.88      6250\n",
            "   macro avg       0.88      0.88      0.88      6250\n",
            "weighted avg       0.88      0.88      0.88      6250\n",
            "\n",
            "\n"
          ],
          "name": "stdout"
        }
      ]
    },
    {
      "cell_type": "markdown",
      "metadata": {
        "id": "NCAuLC0aXdQi"
      },
      "source": [
        "## 5. Export Model "
      ]
    },
    {
      "cell_type": "code",
      "metadata": {
        "id": "sYHo_x67XdQj"
      },
      "source": [
        "# Using pickle to export our trained model\n",
        "import pickle\n",
        "import os\n",
        "\n",
        "pickle.dump(clf, open('LR_Sentiment_Model.pkl', 'wb'))"
      ],
      "execution_count": 14,
      "outputs": []
    }
  ]
}